{
 "cells": [
  {
   "cell_type": "markdown",
   "id": "602c3a6a",
   "metadata": {
    "papermill": {
     "duration": 0.030938,
     "end_time": "2022-01-12T15:26:05.043617",
     "exception": false,
     "start_time": "2022-01-12T15:26:05.012679",
     "status": "completed"
    },
    "tags": []
   },
   "source": [
    "**This notebook is an exercise in the [Data Visualization](https://www.kaggle.com/learn/data-visualization) course.  You can reference the tutorial at [this link](https://www.kaggle.com/alexisbcook/scatter-plots).**\n",
    "\n",
    "---\n"
   ]
  },
  {
   "cell_type": "markdown",
   "id": "3df3960a",
   "metadata": {
    "papermill": {
     "duration": 0.029259,
     "end_time": "2022-01-12T15:26:05.106347",
     "exception": false,
     "start_time": "2022-01-12T15:26:05.077088",
     "status": "completed"
    },
    "tags": []
   },
   "source": [
    "In this exercise, you will use your new knowledge to propose a solution to a real-world scenario.  To succeed, you will need to import data into Python, answer questions using the data, and generate **scatter plots** to understand patterns in the data.\n",
    "\n",
    "## Scenario\n",
    "\n",
    "You work for a major candy producer, and your goal is to write a report that your company can use to guide the design of its next product.  Soon after starting your research, you stumble across this [very interesting dataset](https://fivethirtyeight.com/features/the-ultimate-halloween-candy-power-ranking/) containing results from a fun survey to crowdsource favorite candies.\n",
    "\n",
    "## Setup\n",
    "\n",
    "Run the next cell to import and configure the Python libraries that you need to complete the exercise."
   ]
  },
  {
   "cell_type": "code",
   "execution_count": 1,
   "id": "f4e91cc6",
   "metadata": {
    "execution": {
     "iopub.execute_input": "2022-01-12T15:26:05.179816Z",
     "iopub.status.busy": "2022-01-12T15:26:05.179017Z",
     "iopub.status.idle": "2022-01-12T15:26:06.244487Z",
     "shell.execute_reply": "2022-01-12T15:26:06.245017Z",
     "shell.execute_reply.started": "2022-01-12T14:54:17.393322Z"
    },
    "papermill": {
     "duration": 1.108795,
     "end_time": "2022-01-12T15:26:06.245349",
     "exception": false,
     "start_time": "2022-01-12T15:26:05.136554",
     "status": "completed"
    },
    "tags": []
   },
   "outputs": [
    {
     "name": "stdout",
     "output_type": "stream",
     "text": [
      "Setup Complete\n"
     ]
    }
   ],
   "source": [
    "import pandas as pd\n",
    "pd.plotting.register_matplotlib_converters()\n",
    "import matplotlib.pyplot as plt\n",
    "%matplotlib inline\n",
    "import seaborn as sns\n",
    "print(\"Setup Complete\")"
   ]
  },
  {
   "cell_type": "markdown",
   "id": "1e36c56f",
   "metadata": {
    "papermill": {
     "duration": 0.030118,
     "end_time": "2022-01-12T15:26:06.306847",
     "exception": false,
     "start_time": "2022-01-12T15:26:06.276729",
     "status": "completed"
    },
    "tags": []
   },
   "source": [
    "The questions below will give you feedback on your work. Run the following cell to set up our feedback system."
   ]
  },
  {
   "cell_type": "code",
   "execution_count": 2,
   "id": "6235e3ff",
   "metadata": {
    "execution": {
     "iopub.execute_input": "2022-01-12T15:26:06.374847Z",
     "iopub.status.busy": "2022-01-12T15:26:06.374124Z",
     "iopub.status.idle": "2022-01-12T15:26:06.448477Z",
     "shell.execute_reply": "2022-01-12T15:26:06.449024Z",
     "shell.execute_reply.started": "2022-01-12T14:54:22.639018Z"
    },
    "papermill": {
     "duration": 0.111835,
     "end_time": "2022-01-12T15:26:06.449240",
     "exception": false,
     "start_time": "2022-01-12T15:26:06.337405",
     "status": "completed"
    },
    "tags": []
   },
   "outputs": [
    {
     "name": "stdout",
     "output_type": "stream",
     "text": [
      "Setup Complete\n"
     ]
    }
   ],
   "source": [
    "# Set up code checking\n",
    "import os\n",
    "if not os.path.exists(\"../input/candy.csv\"):\n",
    "    os.symlink(\"../input/data-for-datavis/candy.csv\", \"../input/candy.csv\") \n",
    "from learntools.core import binder\n",
    "binder.bind(globals())\n",
    "from learntools.data_viz_to_coder.ex4 import *\n",
    "print(\"Setup Complete\")"
   ]
  },
  {
   "cell_type": "markdown",
   "id": "bdbb7f0d",
   "metadata": {
    "papermill": {
     "duration": 0.031039,
     "end_time": "2022-01-12T15:26:06.513566",
     "exception": false,
     "start_time": "2022-01-12T15:26:06.482527",
     "status": "completed"
    },
    "tags": []
   },
   "source": [
    "## Step 1: Load the Data\n",
    "\n",
    "Read the candy data file into `candy_data`.  Use the `\"id\"` column to label the rows."
   ]
  },
  {
   "cell_type": "code",
   "execution_count": 3,
   "id": "04cc498f",
   "metadata": {
    "execution": {
     "iopub.execute_input": "2022-01-12T15:26:06.578799Z",
     "iopub.status.busy": "2022-01-12T15:26:06.578147Z",
     "iopub.status.idle": "2022-01-12T15:26:06.594657Z",
     "shell.execute_reply": "2022-01-12T15:26:06.594003Z",
     "shell.execute_reply.started": "2022-01-12T14:58:59.378767Z"
    },
    "papermill": {
     "duration": 0.050022,
     "end_time": "2022-01-12T15:26:06.594799",
     "exception": false,
     "start_time": "2022-01-12T15:26:06.544777",
     "status": "completed"
    },
    "tags": []
   },
   "outputs": [
    {
     "data": {
      "application/javascript": [
       "parent.postMessage({\"jupyterEvent\": \"custom.exercise_interaction\", \"data\": {\"outcomeType\": 1, \"valueTowardsCompletion\": 0.3333333333333333, \"interactionType\": 1, \"questionType\": 1, \"questionId\": \"1_LoadData\", \"learnToolsVersion\": \"0.3.4\", \"failureMessage\": \"\", \"exceptionClass\": \"\", \"trace\": \"\"}}, \"*\")"
      ],
      "text/plain": [
       "<IPython.core.display.Javascript object>"
      ]
     },
     "metadata": {},
     "output_type": "display_data"
    },
    {
     "data": {
      "text/markdown": [
       "<span style=\"color:#33cc33\">Correct</span>"
      ],
      "text/plain": [
       "Correct"
      ]
     },
     "metadata": {},
     "output_type": "display_data"
    }
   ],
   "source": [
    "# Path of the file to read\n",
    "candy_filepath = \"../input/candy.csv\"\n",
    "\n",
    "# Fill in the line below to read the file into a variable candy_data\n",
    "candy_data = pd.read_csv(candy_filepath, index_col='id')\n",
    "candy_data\n",
    "# Run the line below with no changes to check that you've loaded the data correctly\n",
    "step_1.check()"
   ]
  },
  {
   "cell_type": "code",
   "execution_count": 4,
   "id": "ef6e66e6",
   "metadata": {
    "execution": {
     "iopub.execute_input": "2022-01-12T15:26:06.665725Z",
     "iopub.status.busy": "2022-01-12T15:26:06.664887Z",
     "iopub.status.idle": "2022-01-12T15:26:06.671852Z",
     "shell.execute_reply": "2022-01-12T15:26:06.672402Z",
     "shell.execute_reply.started": "2022-01-12T14:59:02.611143Z"
    },
    "papermill": {
     "duration": 0.045624,
     "end_time": "2022-01-12T15:26:06.672601",
     "exception": false,
     "start_time": "2022-01-12T15:26:06.626977",
     "status": "completed"
    },
    "tags": []
   },
   "outputs": [
    {
     "data": {
      "application/javascript": [
       "parent.postMessage({\"jupyterEvent\": \"custom.exercise_interaction\", \"data\": {\"interactionType\": 3, \"questionType\": 1, \"questionId\": \"1_LoadData\", \"learnToolsVersion\": \"0.3.4\", \"valueTowardsCompletion\": 0.0, \"failureMessage\": \"\", \"exceptionClass\": \"\", \"trace\": \"\", \"outcomeType\": 4}}, \"*\")"
      ],
      "text/plain": [
       "<IPython.core.display.Javascript object>"
      ]
     },
     "metadata": {},
     "output_type": "display_data"
    },
    {
     "data": {
      "text/markdown": [
       "<span style=\"color:#33cc99\">Solution:</span> \n",
       "```python\n",
       "candy_data = pd.read_csv(candy_filepath, index_col=\"id\")\n",
       "```"
      ],
      "text/plain": [
       "Solution: \n",
       "```python\n",
       "candy_data = pd.read_csv(candy_filepath, index_col=\"id\")\n",
       "```"
      ]
     },
     "metadata": {},
     "output_type": "display_data"
    }
   ],
   "source": [
    "# Lines below will give you a hint or solution code\n",
    "#step_1.hint()\n",
    "step_1.solution()"
   ]
  },
  {
   "cell_type": "markdown",
   "id": "b9dcae04",
   "metadata": {
    "papermill": {
     "duration": 0.032465,
     "end_time": "2022-01-12T15:26:06.738529",
     "exception": false,
     "start_time": "2022-01-12T15:26:06.706064",
     "status": "completed"
    },
    "tags": []
   },
   "source": [
    "## Step 2: Review the data\n",
    "\n",
    "Use a Python command to print the first five rows of the data."
   ]
  },
  {
   "cell_type": "code",
   "execution_count": 5,
   "id": "90a612cb",
   "metadata": {
    "execution": {
     "iopub.execute_input": "2022-01-12T15:26:06.809234Z",
     "iopub.status.busy": "2022-01-12T15:26:06.808276Z",
     "iopub.status.idle": "2022-01-12T15:26:06.830433Z",
     "shell.execute_reply": "2022-01-12T15:26:06.831017Z",
     "shell.execute_reply.started": "2022-01-12T14:59:23.275322Z"
    },
    "papermill": {
     "duration": 0.059917,
     "end_time": "2022-01-12T15:26:06.831217",
     "exception": false,
     "start_time": "2022-01-12T15:26:06.771300",
     "status": "completed"
    },
    "tags": []
   },
   "outputs": [
    {
     "data": {
      "text/html": [
       "<div>\n",
       "<style scoped>\n",
       "    .dataframe tbody tr th:only-of-type {\n",
       "        vertical-align: middle;\n",
       "    }\n",
       "\n",
       "    .dataframe tbody tr th {\n",
       "        vertical-align: top;\n",
       "    }\n",
       "\n",
       "    .dataframe thead th {\n",
       "        text-align: right;\n",
       "    }\n",
       "</style>\n",
       "<table border=\"1\" class=\"dataframe\">\n",
       "  <thead>\n",
       "    <tr style=\"text-align: right;\">\n",
       "      <th></th>\n",
       "      <th>competitorname</th>\n",
       "      <th>chocolate</th>\n",
       "      <th>fruity</th>\n",
       "      <th>caramel</th>\n",
       "      <th>peanutyalmondy</th>\n",
       "      <th>nougat</th>\n",
       "      <th>crispedricewafer</th>\n",
       "      <th>hard</th>\n",
       "      <th>bar</th>\n",
       "      <th>pluribus</th>\n",
       "      <th>sugarpercent</th>\n",
       "      <th>pricepercent</th>\n",
       "      <th>winpercent</th>\n",
       "    </tr>\n",
       "    <tr>\n",
       "      <th>id</th>\n",
       "      <th></th>\n",
       "      <th></th>\n",
       "      <th></th>\n",
       "      <th></th>\n",
       "      <th></th>\n",
       "      <th></th>\n",
       "      <th></th>\n",
       "      <th></th>\n",
       "      <th></th>\n",
       "      <th></th>\n",
       "      <th></th>\n",
       "      <th></th>\n",
       "      <th></th>\n",
       "    </tr>\n",
       "  </thead>\n",
       "  <tbody>\n",
       "    <tr>\n",
       "      <th>0</th>\n",
       "      <td>100 Grand</td>\n",
       "      <td>Yes</td>\n",
       "      <td>No</td>\n",
       "      <td>Yes</td>\n",
       "      <td>No</td>\n",
       "      <td>No</td>\n",
       "      <td>Yes</td>\n",
       "      <td>No</td>\n",
       "      <td>Yes</td>\n",
       "      <td>No</td>\n",
       "      <td>0.732</td>\n",
       "      <td>0.860</td>\n",
       "      <td>66.971725</td>\n",
       "    </tr>\n",
       "    <tr>\n",
       "      <th>1</th>\n",
       "      <td>3 Musketeers</td>\n",
       "      <td>Yes</td>\n",
       "      <td>No</td>\n",
       "      <td>No</td>\n",
       "      <td>No</td>\n",
       "      <td>Yes</td>\n",
       "      <td>No</td>\n",
       "      <td>No</td>\n",
       "      <td>Yes</td>\n",
       "      <td>No</td>\n",
       "      <td>0.604</td>\n",
       "      <td>0.511</td>\n",
       "      <td>67.602936</td>\n",
       "    </tr>\n",
       "    <tr>\n",
       "      <th>2</th>\n",
       "      <td>Air Heads</td>\n",
       "      <td>No</td>\n",
       "      <td>Yes</td>\n",
       "      <td>No</td>\n",
       "      <td>No</td>\n",
       "      <td>No</td>\n",
       "      <td>No</td>\n",
       "      <td>No</td>\n",
       "      <td>No</td>\n",
       "      <td>No</td>\n",
       "      <td>0.906</td>\n",
       "      <td>0.511</td>\n",
       "      <td>52.341465</td>\n",
       "    </tr>\n",
       "    <tr>\n",
       "      <th>3</th>\n",
       "      <td>Almond Joy</td>\n",
       "      <td>Yes</td>\n",
       "      <td>No</td>\n",
       "      <td>No</td>\n",
       "      <td>Yes</td>\n",
       "      <td>No</td>\n",
       "      <td>No</td>\n",
       "      <td>No</td>\n",
       "      <td>Yes</td>\n",
       "      <td>No</td>\n",
       "      <td>0.465</td>\n",
       "      <td>0.767</td>\n",
       "      <td>50.347546</td>\n",
       "    </tr>\n",
       "    <tr>\n",
       "      <th>4</th>\n",
       "      <td>Baby Ruth</td>\n",
       "      <td>Yes</td>\n",
       "      <td>No</td>\n",
       "      <td>Yes</td>\n",
       "      <td>Yes</td>\n",
       "      <td>Yes</td>\n",
       "      <td>No</td>\n",
       "      <td>No</td>\n",
       "      <td>Yes</td>\n",
       "      <td>No</td>\n",
       "      <td>0.604</td>\n",
       "      <td>0.767</td>\n",
       "      <td>56.914547</td>\n",
       "    </tr>\n",
       "  </tbody>\n",
       "</table>\n",
       "</div>"
      ],
      "text/plain": [
       "   competitorname chocolate fruity caramel peanutyalmondy nougat  \\\n",
       "id                                                                 \n",
       "0       100 Grand       Yes     No     Yes             No     No   \n",
       "1    3 Musketeers       Yes     No      No             No    Yes   \n",
       "2       Air Heads        No    Yes      No             No     No   \n",
       "3      Almond Joy       Yes     No      No            Yes     No   \n",
       "4       Baby Ruth       Yes     No     Yes            Yes    Yes   \n",
       "\n",
       "   crispedricewafer hard  bar pluribus  sugarpercent  pricepercent  winpercent  \n",
       "id                                                                              \n",
       "0               Yes   No  Yes       No         0.732         0.860   66.971725  \n",
       "1                No   No  Yes       No         0.604         0.511   67.602936  \n",
       "2                No   No   No       No         0.906         0.511   52.341465  \n",
       "3                No   No  Yes       No         0.465         0.767   50.347546  \n",
       "4                No   No  Yes       No         0.604         0.767   56.914547  "
      ]
     },
     "execution_count": 5,
     "metadata": {},
     "output_type": "execute_result"
    }
   ],
   "source": [
    "# Print the first five rows of the data\n",
    "candy_data.head()"
   ]
  },
  {
   "cell_type": "markdown",
   "id": "5a60b36e",
   "metadata": {
    "papermill": {
     "duration": 0.033298,
     "end_time": "2022-01-12T15:26:06.897994",
     "exception": false,
     "start_time": "2022-01-12T15:26:06.864696",
     "status": "completed"
    },
    "tags": []
   },
   "source": [
    "The dataset contains 83 rows, where each corresponds to a different candy bar.  There are 13 columns:\n",
    "- `'competitorname'` contains the name of the candy bar. \n",
    "- the next **9** columns (from `'chocolate'` to `'pluribus'`) describe the candy.  For instance, rows with chocolate candies have `\"Yes\"` in the `'chocolate'` column (and candies without chocolate have `\"No\"` in the same column).\n",
    "- `'sugarpercent'` provides some indication of the amount of sugar, where higher values signify higher sugar content.\n",
    "- `'pricepercent'` shows the price per unit, relative to the other candies in the dataset.\n",
    "- `'winpercent'` is calculated from the survey results; higher values indicate that the candy was more popular with survey respondents.\n",
    "\n",
    "Use the first five rows of the data to answer the questions below."
   ]
  },
  {
   "cell_type": "code",
   "execution_count": 6,
   "id": "1147b781",
   "metadata": {
    "execution": {
     "iopub.execute_input": "2022-01-12T15:26:06.968010Z",
     "iopub.status.busy": "2022-01-12T15:26:06.967381Z",
     "iopub.status.idle": "2022-01-12T15:26:06.973936Z",
     "shell.execute_reply": "2022-01-12T15:26:06.974535Z",
     "shell.execute_reply.started": "2022-01-12T15:02:06.851154Z"
    },
    "papermill": {
     "duration": 0.043376,
     "end_time": "2022-01-12T15:26:06.974710",
     "exception": false,
     "start_time": "2022-01-12T15:26:06.931334",
     "status": "completed"
    },
    "tags": []
   },
   "outputs": [
    {
     "data": {
      "application/javascript": [
       "parent.postMessage({\"jupyterEvent\": \"custom.exercise_interaction\", \"data\": {\"outcomeType\": 1, \"valueTowardsCompletion\": 0.3333333333333333, \"interactionType\": 1, \"questionType\": 1, \"questionId\": \"2_ReviewData\", \"learnToolsVersion\": \"0.3.4\", \"failureMessage\": \"\", \"exceptionClass\": \"\", \"trace\": \"\"}}, \"*\")"
      ],
      "text/plain": [
       "<IPython.core.display.Javascript object>"
      ]
     },
     "metadata": {},
     "output_type": "display_data"
    },
    {
     "data": {
      "text/markdown": [
       "<span style=\"color:#33cc33\">Correct</span>"
      ],
      "text/plain": [
       "Correct"
      ]
     },
     "metadata": {},
     "output_type": "display_data"
    }
   ],
   "source": [
    "# Fill in the line below: Which candy was more popular with survey respondents:\n",
    "# '3 Musketeers' or 'Almond Joy'?  (Please enclose your answer in single quotes.)\n",
    "more_popular = '3 Musketeers'\n",
    "\n",
    "# Fill in the line below: Which candy has higher sugar content: 'Air Heads'\n",
    "# or 'Baby Ruth'? (Please enclose your answer in single quotes.)\n",
    "more_sugar = 'Air Heads'\n",
    "\n",
    "# Check your answers\n",
    "step_2.check()"
   ]
  },
  {
   "cell_type": "code",
   "execution_count": 7,
   "id": "529f9408",
   "metadata": {
    "execution": {
     "iopub.execute_input": "2022-01-12T15:26:07.045997Z",
     "iopub.status.busy": "2022-01-12T15:26:07.045379Z",
     "iopub.status.idle": "2022-01-12T15:26:07.051393Z",
     "shell.execute_reply": "2022-01-12T15:26:07.051906Z",
     "shell.execute_reply.started": "2022-01-12T15:02:10.144153Z"
    },
    "papermill": {
     "duration": 0.04297,
     "end_time": "2022-01-12T15:26:07.052113",
     "exception": false,
     "start_time": "2022-01-12T15:26:07.009143",
     "status": "completed"
    },
    "tags": []
   },
   "outputs": [
    {
     "data": {
      "application/javascript": [
       "parent.postMessage({\"jupyterEvent\": \"custom.exercise_interaction\", \"data\": {\"interactionType\": 3, \"questionType\": 1, \"questionId\": \"2_ReviewData\", \"learnToolsVersion\": \"0.3.4\", \"valueTowardsCompletion\": 0.0, \"failureMessage\": \"\", \"exceptionClass\": \"\", \"trace\": \"\", \"outcomeType\": 4}}, \"*\")"
      ],
      "text/plain": [
       "<IPython.core.display.Javascript object>"
      ]
     },
     "metadata": {},
     "output_type": "display_data"
    },
    {
     "data": {
      "text/markdown": [
       "<span style=\"color:#33cc99\">Solution:</span> \n",
       "```python\n",
       "# Print the first five rows of the data\n",
       "candy_data.head()\n",
       "# Which candy was more popular with survey respondents:\n",
       "# '3 Musketeers' or 'Almond Joy'?\n",
       "more_popular = '3 Musketeers'\n",
       "# Which candy has higher sugar content: 'Air Heads'\n",
       "# or 'Baby Ruth'?\n",
       "more_sugar = 'Air Heads'\n",
       "\n",
       "```"
      ],
      "text/plain": [
       "Solution: \n",
       "```python\n",
       "# Print the first five rows of the data\n",
       "candy_data.head()\n",
       "# Which candy was more popular with survey respondents:\n",
       "# '3 Musketeers' or 'Almond Joy'?\n",
       "more_popular = '3 Musketeers'\n",
       "# Which candy has higher sugar content: 'Air Heads'\n",
       "# or 'Baby Ruth'?\n",
       "more_sugar = 'Air Heads'\n",
       "\n",
       "```"
      ]
     },
     "metadata": {},
     "output_type": "display_data"
    }
   ],
   "source": [
    "# Lines below will give you a hint or solution code\n",
    "#step_2.hint()\n",
    "step_2.solution()"
   ]
  },
  {
   "cell_type": "markdown",
   "id": "1d1e485b",
   "metadata": {
    "papermill": {
     "duration": 0.035316,
     "end_time": "2022-01-12T15:26:07.122510",
     "exception": false,
     "start_time": "2022-01-12T15:26:07.087194",
     "status": "completed"
    },
    "tags": []
   },
   "source": [
    "## Step 3: The role of sugar\n",
    "\n",
    "Do people tend to prefer candies with higher sugar content?  \n",
    "\n",
    "#### Part A\n",
    "\n",
    "Create a scatter plot that shows the relationship between `'sugarpercent'` (on the horizontal x-axis) and `'winpercent'` (on the vertical y-axis).  _Don't add a regression line just yet -- you'll do that in the next step!_"
   ]
  },
  {
   "cell_type": "code",
   "execution_count": 8,
   "id": "a5e53f71",
   "metadata": {
    "execution": {
     "iopub.execute_input": "2022-01-12T15:26:07.196296Z",
     "iopub.status.busy": "2022-01-12T15:26:07.195632Z",
     "iopub.status.idle": "2022-01-12T15:26:07.463869Z",
     "shell.execute_reply": "2022-01-12T15:26:07.463331Z",
     "shell.execute_reply.started": "2022-01-12T15:05:13.161578Z"
    },
    "papermill": {
     "duration": 0.306597,
     "end_time": "2022-01-12T15:26:07.464016",
     "exception": false,
     "start_time": "2022-01-12T15:26:07.157419",
     "status": "completed"
    },
    "tags": []
   },
   "outputs": [
    {
     "data": {
      "application/javascript": [
       "parent.postMessage({\"jupyterEvent\": \"custom.exercise_interaction\", \"data\": {\"outcomeType\": 1, \"valueTowardsCompletion\": 0.3333333333333333, \"interactionType\": 1, \"questionType\": 2, \"questionId\": \"3.1_PlotBlueScatter\", \"learnToolsVersion\": \"0.3.4\", \"failureMessage\": \"\", \"exceptionClass\": \"\", \"trace\": \"\"}}, \"*\")"
      ],
      "text/plain": [
       "<IPython.core.display.Javascript object>"
      ]
     },
     "metadata": {},
     "output_type": "display_data"
    },
    {
     "data": {
      "text/markdown": [
       "<span style=\"color:#33cc33\">Correct</span>"
      ],
      "text/plain": [
       "Correct"
      ]
     },
     "metadata": {},
     "output_type": "display_data"
    },
    {
     "data": {
      "image/png": "[encoded data removed]",
      "text/plain": [
       "<Figure size 432x288 with 1 Axes>"
      ]
     },
     "metadata": {
      "needs_background": "light"
     },
     "output_type": "display_data"
    }
   ],
   "source": [
    "# Scatter plot showing the relationship between 'sugarpercent' and 'winpercent'\n",
    "sns.scatterplot(x=candy_data['sugarpercent'], y=candy_data['winpercent'])\n",
    "\n",
    "# Check your answer\n",
    "step_3.a.check()"
   ]
  },
  {
   "cell_type": "code",
   "execution_count": 9,
   "id": "2c10845f",
   "metadata": {
    "execution": {
     "iopub.execute_input": "2022-01-12T15:26:07.542235Z",
     "iopub.status.busy": "2022-01-12T15:26:07.540436Z",
     "iopub.status.idle": "2022-01-12T15:26:07.769156Z",
     "shell.execute_reply": "2022-01-12T15:26:07.769713Z",
     "shell.execute_reply.started": "2022-01-12T15:05:17.518678Z"
    },
    "papermill": {
     "duration": 0.268971,
     "end_time": "2022-01-12T15:26:07.769904",
     "exception": false,
     "start_time": "2022-01-12T15:26:07.500933",
     "status": "completed"
    },
    "tags": []
   },
   "outputs": [
    {
     "data": {
      "application/javascript": [
       "parent.postMessage({\"jupyterEvent\": \"custom.exercise_interaction\", \"data\": {\"interactionType\": 3, \"questionType\": 2, \"questionId\": \"3.1_PlotBlueScatter\", \"learnToolsVersion\": \"0.3.4\", \"valueTowardsCompletion\": 0.0, \"failureMessage\": \"\", \"exceptionClass\": \"\", \"trace\": \"\", \"outcomeType\": 4}}, \"*\")"
      ],
      "text/plain": [
       "<IPython.core.display.Javascript object>"
      ]
     },
     "metadata": {},
     "output_type": "display_data"
    },
    {
     "data": {
      "text/markdown": [
       "<span style=\"color:#33cc99\">Solution:</span> \n",
       "```python\n",
       "# Scatter plot showing the relationship between 'sugarpercent' and 'winpercent'\n",
       "sns.scatterplot(x=candy_data['sugarpercent'], y=candy_data['winpercent'])\n",
       "\n",
       "```"
      ],
      "text/plain": [
       "Solution: \n",
       "```python\n",
       "# Scatter plot showing the relationship between 'sugarpercent' and 'winpercent'\n",
       "sns.scatterplot(x=candy_data['sugarpercent'], y=candy_data['winpercent'])\n",
       "\n",
       "```"
      ]
     },
     "metadata": {},
     "output_type": "display_data"
    },
    {
     "data": {
      "image/png": "[encoded data removed]",
      "text/plain": [
       "<Figure size 432x288 with 1 Axes>"
      ]
     },
     "metadata": {
      "needs_background": "light"
     },
     "output_type": "display_data"
    }
   ],
   "source": [
    "# Lines below will give you a hint or solution code\n",
    "#step_3.a.hint()\n",
    "step_3.a.solution_plot()"
   ]
  },
  {
   "cell_type": "markdown",
   "id": "8c2b7424",
   "metadata": {
    "papermill": {
     "duration": 0.038081,
     "end_time": "2022-01-12T15:26:07.847210",
     "exception": false,
     "start_time": "2022-01-12T15:26:07.809129",
     "status": "completed"
    },
    "tags": []
   },
   "source": [
    "#### Part B\n",
    "\n",
    "Does the scatter plot show a **strong** correlation between the two variables?  If so, are candies with more sugar relatively more or less popular with the survey respondents?"
   ]
  },
  {
   "cell_type": "markdown",
   "id": "2c228a74",
   "metadata": {
    "papermill": {
     "duration": 0.038031,
     "end_time": "2022-01-12T15:26:07.923469",
     "exception": false,
     "start_time": "2022-01-12T15:26:07.885438",
     "status": "completed"
    },
    "tags": []
   },
   "source": [
    "Answer: No"
   ]
  },
  {
   "cell_type": "code",
   "execution_count": 10,
   "id": "7a2c377f",
   "metadata": {
    "execution": {
     "iopub.execute_input": "2022-01-12T15:26:08.004257Z",
     "iopub.status.busy": "2022-01-12T15:26:08.003339Z",
     "iopub.status.idle": "2022-01-12T15:26:08.006882Z",
     "shell.execute_reply": "2022-01-12T15:26:08.007428Z"
    },
    "papermill": {
     "duration": 0.045959,
     "end_time": "2022-01-12T15:26:08.007590",
     "exception": false,
     "start_time": "2022-01-12T15:26:07.961631",
     "status": "completed"
    },
    "tags": []
   },
   "outputs": [],
   "source": [
    "#step_3.b.hint()"
   ]
  },
  {
   "cell_type": "code",
   "execution_count": 11,
   "id": "c2a31ac0",
   "metadata": {
    "execution": {
     "iopub.execute_input": "2022-01-12T15:26:08.088059Z",
     "iopub.status.busy": "2022-01-12T15:26:08.087434Z",
     "iopub.status.idle": "2022-01-12T15:26:08.093190Z",
     "shell.execute_reply": "2022-01-12T15:26:08.093747Z",
     "shell.execute_reply.started": "2022-01-12T15:05:58.642506Z"
    },
    "papermill": {
     "duration": 0.047587,
     "end_time": "2022-01-12T15:26:08.093918",
     "exception": false,
     "start_time": "2022-01-12T15:26:08.046331",
     "status": "completed"
    },
    "tags": []
   },
   "outputs": [
    {
     "data": {
      "application/javascript": [
       "parent.postMessage({\"jupyterEvent\": \"custom.exercise_interaction\", \"data\": {\"interactionType\": 3, \"questionType\": 4, \"questionId\": \"3.2_ThinkBlueScatter\", \"learnToolsVersion\": \"0.3.4\", \"valueTowardsCompletion\": 0.0, \"failureMessage\": \"\", \"exceptionClass\": \"\", \"trace\": \"\", \"outcomeType\": 4}}, \"*\")"
      ],
      "text/plain": [
       "<IPython.core.display.Javascript object>"
      ]
     },
     "metadata": {},
     "output_type": "display_data"
    },
    {
     "data": {
      "text/markdown": [
       "<span style=\"color:#33cc99\">Solution:</span> The scatter plot does not show a strong correlation between the two variables. Since there is no clear relationship between the two variables, this tells us that sugar content does not play a strong role in candy popularity."
      ],
      "text/plain": [
       "Solution: The scatter plot does not show a strong correlation between the two variables. Since there is no clear relationship between the two variables, this tells us that sugar content does not play a strong role in candy popularity."
      ]
     },
     "metadata": {},
     "output_type": "display_data"
    }
   ],
   "source": [
    "# Check your answer (Run this code cell to receive credit!)\n",
    "step_3.b.solution()"
   ]
  },
  {
   "cell_type": "markdown",
   "id": "4ea15ddb",
   "metadata": {
    "papermill": {
     "duration": 0.040275,
     "end_time": "2022-01-12T15:26:08.173606",
     "exception": false,
     "start_time": "2022-01-12T15:26:08.133331",
     "status": "completed"
    },
    "tags": []
   },
   "source": [
    "## Step 4: Take a closer look\n",
    "\n",
    "#### Part A\n",
    "\n",
    "Create the same scatter plot you created in **Step 3**, but now with a regression line!"
   ]
  },
  {
   "cell_type": "code",
   "execution_count": 12,
   "id": "a8ecd90c",
   "metadata": {
    "execution": {
     "iopub.execute_input": "2022-01-12T15:26:08.259142Z",
     "iopub.status.busy": "2022-01-12T15:26:08.258516Z",
     "iopub.status.idle": "2022-01-12T15:26:08.591562Z",
     "shell.execute_reply": "2022-01-12T15:26:08.592076Z",
     "shell.execute_reply.started": "2022-01-12T15:07:43.778084Z"
    },
    "papermill": {
     "duration": 0.377007,
     "end_time": "2022-01-12T15:26:08.592248",
     "exception": false,
     "start_time": "2022-01-12T15:26:08.215241",
     "status": "completed"
    },
    "tags": []
   },
   "outputs": [
    {
     "data": {
      "application/javascript": [
       "parent.postMessage({\"jupyterEvent\": \"custom.exercise_interaction\", \"data\": {\"outcomeType\": 1, \"valueTowardsCompletion\": 0.3333333333333333, \"interactionType\": 1, \"questionType\": 2, \"questionId\": \"4.1_PlotBlueReg\", \"learnToolsVersion\": \"0.3.4\", \"failureMessage\": \"\", \"exceptionClass\": \"\", \"trace\": \"\"}}, \"*\")"
      ],
      "text/plain": [
       "<IPython.core.display.Javascript object>"
      ]
     },
     "metadata": {},
     "output_type": "display_data"
    },
    {
     "data": {
      "text/markdown": [
       "<span style=\"color:#33cc33\">Correct</span>"
      ],
      "text/plain": [
       "Correct"
      ]
     },
     "metadata": {},
     "output_type": "display_data"
    },
    {
     "data": {
      "image/png": "[encoded data removed]",
      "text/plain": [
       "<Figure size 432x288 with 1 Axes>"
      ]
     },
     "metadata": {
      "needs_background": "light"
     },
     "output_type": "display_data"
    }
   ],
   "source": [
    "# Scatter plot w/ regression line showing the relationship between 'sugarpercent' and 'winpercent'\n",
    "sns.regplot(x=candy_data['sugarpercent'], y=candy_data['winpercent'])\n",
    "\n",
    "# Check your answer\n",
    "step_4.a.check()"
   ]
  },
  {
   "cell_type": "code",
   "execution_count": 13,
   "id": "d788eef9",
   "metadata": {
    "execution": {
     "iopub.execute_input": "2022-01-12T15:26:08.678966Z",
     "iopub.status.busy": "2022-01-12T15:26:08.678346Z",
     "iopub.status.idle": "2022-01-12T15:26:09.025502Z",
     "shell.execute_reply": "2022-01-12T15:26:09.024958Z",
     "shell.execute_reply.started": "2022-01-12T15:07:48.061686Z"
    },
    "papermill": {
     "duration": 0.391138,
     "end_time": "2022-01-12T15:26:09.025675",
     "exception": false,
     "start_time": "2022-01-12T15:26:08.634537",
     "status": "completed"
    },
    "tags": []
   },
   "outputs": [
    {
     "data": {
      "application/javascript": [
       "parent.postMessage({\"jupyterEvent\": \"custom.exercise_interaction\", \"data\": {\"interactionType\": 3, \"questionType\": 2, \"questionId\": \"4.1_PlotBlueReg\", \"learnToolsVersion\": \"0.3.4\", \"valueTowardsCompletion\": 0.0, \"failureMessage\": \"\", \"exceptionClass\": \"\", \"trace\": \"\", \"outcomeType\": 4}}, \"*\")"
      ],
      "text/plain": [
       "<IPython.core.display.Javascript object>"
      ]
     },
     "metadata": {},
     "output_type": "display_data"
    },
    {
     "data": {
      "text/markdown": [
       "<span style=\"color:#33cc99\">Solution:</span> \n",
       "```python\n",
       "# Scatter plot w/ regression line showing the relationship between 'sugarpercent' and 'winpercent'\n",
       "sns.regplot(x=candy_data['sugarpercent'], y=candy_data['winpercent'])\n",
       "\n",
       "```"
      ],
      "text/plain": [
       "Solution: \n",
       "```python\n",
       "# Scatter plot w/ regression line showing the relationship between 'sugarpercent' and 'winpercent'\n",
       "sns.regplot(x=candy_data['sugarpercent'], y=candy_data['winpercent'])\n",
       "\n",
       "```"
      ]
     },
     "metadata": {},
     "output_type": "display_data"
    },
    {
     "data": {
      "image/png": "[encoded data removed]",
      "text/plain": [
       "<Figure size 432x288 with 1 Axes>"
      ]
     },
     "metadata": {
      "needs_background": "light"
     },
     "output_type": "display_data"
    }
   ],
   "source": [
    "# Lines below will give you a hint or solution code\n",
    "#step_4.a.hint()\n",
    "step_4.a.solution_plot()"
   ]
  },
  {
   "cell_type": "markdown",
   "id": "5f8afc54",
   "metadata": {
    "papermill": {
     "duration": 0.043635,
     "end_time": "2022-01-12T15:26:09.114293",
     "exception": false,
     "start_time": "2022-01-12T15:26:09.070658",
     "status": "completed"
    },
    "tags": []
   },
   "source": [
    "#### Part B\n",
    "\n",
    "According to the plot above, is there a **slight** correlation between `'winpercent'` and `'sugarpercent'`?  What does this tell you about the candy that people tend to prefer?"
   ]
  },
  {
   "cell_type": "markdown",
   "id": "c4edd2af",
   "metadata": {
    "papermill": {
     "duration": 0.044098,
     "end_time": "2022-01-12T15:26:09.202387",
     "exception": false,
     "start_time": "2022-01-12T15:26:09.158289",
     "status": "completed"
    },
    "tags": []
   },
   "source": [
    "Answer: People have a slight preference for candies with more sugar"
   ]
  },
  {
   "cell_type": "code",
   "execution_count": 14,
   "id": "d186f2b0",
   "metadata": {
    "execution": {
     "iopub.execute_input": "2022-01-12T15:26:09.295974Z",
     "iopub.status.busy": "2022-01-12T15:26:09.294868Z",
     "iopub.status.idle": "2022-01-12T15:26:09.297849Z",
     "shell.execute_reply": "2022-01-12T15:26:09.298357Z"
    },
    "papermill": {
     "duration": 0.052054,
     "end_time": "2022-01-12T15:26:09.298553",
     "exception": false,
     "start_time": "2022-01-12T15:26:09.246499",
     "status": "completed"
    },
    "tags": []
   },
   "outputs": [],
   "source": [
    "#step_4.b.hint()"
   ]
  },
  {
   "cell_type": "code",
   "execution_count": 15,
   "id": "f99284dd",
   "metadata": {
    "execution": {
     "iopub.execute_input": "2022-01-12T15:26:09.391447Z",
     "iopub.status.busy": "2022-01-12T15:26:09.390456Z",
     "iopub.status.idle": "2022-01-12T15:26:09.397761Z",
     "shell.execute_reply": "2022-01-12T15:26:09.398298Z",
     "shell.execute_reply.started": "2022-01-12T15:08:32.316180Z"
    },
    "papermill": {
     "duration": 0.055834,
     "end_time": "2022-01-12T15:26:09.398493",
     "exception": false,
     "start_time": "2022-01-12T15:26:09.342659",
     "status": "completed"
    },
    "tags": []
   },
   "outputs": [
    {
     "data": {
      "application/javascript": [
       "parent.postMessage({\"jupyterEvent\": \"custom.exercise_interaction\", \"data\": {\"interactionType\": 3, \"questionType\": 4, \"questionId\": \"4.2_ThinkBlueReg\", \"learnToolsVersion\": \"0.3.4\", \"valueTowardsCompletion\": 0.0, \"failureMessage\": \"\", \"exceptionClass\": \"\", \"trace\": \"\", \"outcomeType\": 4}}, \"*\")"
      ],
      "text/plain": [
       "<IPython.core.display.Javascript object>"
      ]
     },
     "metadata": {},
     "output_type": "display_data"
    },
    {
     "data": {
      "text/markdown": [
       "<span style=\"color:#33cc99\">Solution:</span> Since the regression line has a slightly positive slope, this tells us that there is a slightly positive correlation between `'winpercent'` and `'sugarpercent'`. Thus, people have a slight preference for candies containing relatively more sugar."
      ],
      "text/plain": [
       "Solution: Since the regression line has a slightly positive slope, this tells us that there is a slightly positive correlation between `'winpercent'` and `'sugarpercent'`. Thus, people have a slight preference for candies containing relatively more sugar."
      ]
     },
     "metadata": {},
     "output_type": "display_data"
    }
   ],
   "source": [
    "# Check your answer (Run this code cell to receive credit!)\n",
    "step_4.b.solution()"
   ]
  },
  {
   "cell_type": "markdown",
   "id": "ed8dcda3",
   "metadata": {
    "papermill": {
     "duration": 0.044598,
     "end_time": "2022-01-12T15:26:09.488249",
     "exception": false,
     "start_time": "2022-01-12T15:26:09.443651",
     "status": "completed"
    },
    "tags": []
   },
   "source": [
    "## Step 5: Chocolate!\n",
    "\n",
    "In the code cell below, create a scatter plot to show the relationship between `'pricepercent'` (on the horizontal x-axis) and `'winpercent'` (on the vertical y-axis). Use the `'chocolate'` column to color-code the points.  _Don't add any regression lines just yet -- you'll do that in the next step!_"
   ]
  },
  {
   "cell_type": "code",
   "execution_count": 16,
   "id": "4e1eea41",
   "metadata": {
    "execution": {
     "iopub.execute_input": "2022-01-12T15:26:09.605157Z",
     "iopub.status.busy": "2022-01-12T15:26:09.604350Z",
     "iopub.status.idle": "2022-01-12T15:26:09.929886Z",
     "shell.execute_reply": "2022-01-12T15:26:09.930466Z",
     "shell.execute_reply.started": "2022-01-12T15:12:24.075418Z"
    },
    "papermill": {
     "duration": 0.3976,
     "end_time": "2022-01-12T15:26:09.930682",
     "exception": false,
     "start_time": "2022-01-12T15:26:09.533082",
     "status": "completed"
    },
    "tags": []
   },
   "outputs": [
    {
     "data": {
      "application/javascript": [
       "parent.postMessage({\"jupyterEvent\": \"custom.exercise_interaction\", \"data\": {\"outcomeType\": 1, \"valueTowardsCompletion\": 0.3333333333333333, \"interactionType\": 1, \"questionType\": 2, \"questionId\": \"5_ColorScatter\", \"learnToolsVersion\": \"0.3.4\", \"failureMessage\": \"\", \"exceptionClass\": \"\", \"trace\": \"\"}}, \"*\")"
      ],
      "text/plain": [
       "<IPython.core.display.Javascript object>"
      ]
     },
     "metadata": {},
     "output_type": "display_data"
    },
    {
     "data": {
      "text/markdown": [
       "<span style=\"color:#33cc33\">Correct</span>"
      ],
      "text/plain": [
       "Correct"
      ]
     },
     "metadata": {},
     "output_type": "display_data"
    },
    {
     "data": {
      "image/png": "[encoded data removed]",
      "text/plain": [
       "<Figure size 432x288 with 1 Axes>"
      ]
     },
     "metadata": {
      "needs_background": "light"
     },
     "output_type": "display_data"
    }
   ],
   "source": [
    "# Scatter plot showing the relationship between 'pricepercent', 'winpercent', and 'chocolate'\n",
    "sns.scatterplot(x=candy_data['pricepercent'], y=candy_data['winpercent'], hue=candy_data['chocolate'])\n",
    "\n",
    "# Check your answer\n",
    "step_5.check()"
   ]
  },
  {
   "cell_type": "code",
   "execution_count": 17,
   "id": "f776c197",
   "metadata": {
    "execution": {
     "iopub.execute_input": "2022-01-12T15:26:10.027496Z",
     "iopub.status.busy": "2022-01-12T15:26:10.026840Z",
     "iopub.status.idle": "2022-01-12T15:26:10.331835Z",
     "shell.execute_reply": "2022-01-12T15:26:10.332406Z",
     "shell.execute_reply.started": "2022-01-12T15:12:28.624392Z"
    },
    "papermill": {
     "duration": 0.355267,
     "end_time": "2022-01-12T15:26:10.332584",
     "exception": false,
     "start_time": "2022-01-12T15:26:09.977317",
     "status": "completed"
    },
    "tags": []
   },
   "outputs": [
    {
     "data": {
      "application/javascript": [
       "parent.postMessage({\"jupyterEvent\": \"custom.exercise_interaction\", \"data\": {\"interactionType\": 3, \"questionType\": 2, \"questionId\": \"5_ColorScatter\", \"learnToolsVersion\": \"0.3.4\", \"valueTowardsCompletion\": 0.0, \"failureMessage\": \"\", \"exceptionClass\": \"\", \"trace\": \"\", \"outcomeType\": 4}}, \"*\")"
      ],
      "text/plain": [
       "<IPython.core.display.Javascript object>"
      ]
     },
     "metadata": {},
     "output_type": "display_data"
    },
    {
     "data": {
      "text/markdown": [
       "<span style=\"color:#33cc99\">Solution:</span> \n",
       "```python\n",
       "# Scatter plot showing the relationship between 'pricepercent', 'winpercent', and 'chocolate'\n",
       "sns.scatterplot(x=candy_data['pricepercent'], y=candy_data['winpercent'], hue=candy_data['chocolate'])\n",
       "\n",
       "```"
      ],
      "text/plain": [
       "Solution: \n",
       "```python\n",
       "# Scatter plot showing the relationship between 'pricepercent', 'winpercent', and 'chocolate'\n",
       "sns.scatterplot(x=candy_data['pricepercent'], y=candy_data['winpercent'], hue=candy_data['chocolate'])\n",
       "\n",
       "```"
      ]
     },
     "metadata": {},
     "output_type": "display_data"
    },
    {
     "data": {
      "image/png": "[encoded data removed]",
      "text/plain": [
       "<Figure size 432x288 with 1 Axes>"
      ]
     },
     "metadata": {
      "needs_background": "light"
     },
     "output_type": "display_data"
    }
   ],
   "source": [
    "# Lines below will give you a hint or solution code\n",
    "#step_5.hint()\n",
    "step_5.solution_plot()"
   ]
  },
  {
   "cell_type": "markdown",
   "id": "9445bb26",
   "metadata": {
    "papermill": {
     "duration": 0.050142,
     "end_time": "2022-01-12T15:26:10.432537",
     "exception": false,
     "start_time": "2022-01-12T15:26:10.382395",
     "status": "completed"
    },
    "tags": []
   },
   "source": [
    "Can you see any interesting patterns in the scatter plot?  We'll investigate this plot further  by adding regression lines in the next step!\n",
    "\n",
    "## Step 6: Investigate chocolate\n",
    "\n",
    "#### Part A\n",
    "\n",
    "Create the same scatter plot you created in **Step 5**, but now with two regression lines, corresponding to (1) chocolate candies and (2) candies without chocolate."
   ]
  },
  {
   "cell_type": "code",
   "execution_count": 18,
   "id": "f5162efe",
   "metadata": {
    "execution": {
     "iopub.execute_input": "2022-01-12T15:26:10.534128Z",
     "iopub.status.busy": "2022-01-12T15:26:10.533474Z",
     "iopub.status.idle": "2022-01-12T15:26:11.215830Z",
     "shell.execute_reply": "2022-01-12T15:26:11.216387Z",
     "shell.execute_reply.started": "2022-01-12T15:15:55.363880Z"
    },
    "papermill": {
     "duration": 0.735262,
     "end_time": "2022-01-12T15:26:11.216569",
     "exception": false,
     "start_time": "2022-01-12T15:26:10.481307",
     "status": "completed"
    },
    "tags": []
   },
   "outputs": [
    {
     "data": {
      "application/javascript": [
       "parent.postMessage({\"jupyterEvent\": \"custom.exercise_interaction\", \"data\": {\"outcomeType\": 1, \"valueTowardsCompletion\": 0.3333333333333333, \"interactionType\": 1, \"questionType\": 2, \"questionId\": \"6.1_PlotColorReg\", \"learnToolsVersion\": \"0.3.4\", \"failureMessage\": \"\", \"exceptionClass\": \"\", \"trace\": \"\"}}, \"*\")"
      ],
      "text/plain": [
       "<IPython.core.display.Javascript object>"
      ]
     },
     "metadata": {},
     "output_type": "display_data"
    },
    {
     "data": {
      "text/markdown": [
       "<span style=\"color:#33cc33\">Correct</span>"
      ],
      "text/plain": [
       "Correct"
      ]
     },
     "metadata": {},
     "output_type": "display_data"
    },
    {
     "data": {
      "image/png": "[encoded data removed]",
      "text/plain": [
       "<Figure size 416.375x360 with 1 Axes>"
      ]
     },
     "metadata": {
      "needs_background": "light"
     },
     "output_type": "display_data"
    }
   ],
   "source": [
    "# Color-coded scatter plot w/ regression lines\n",
    "sns.lmplot(x=\"pricepercent\", y=\"winpercent\", hue=\"chocolate\", data=candy_data)\n",
    "\n",
    "# Check your answer\n",
    "step_6.a.check()"
   ]
  },
  {
   "cell_type": "code",
   "execution_count": 19,
   "id": "34df5616",
   "metadata": {
    "execution": {
     "iopub.execute_input": "2022-01-12T15:26:11.325535Z",
     "iopub.status.busy": "2022-01-12T15:26:11.324886Z",
     "iopub.status.idle": "2022-01-12T15:26:12.025538Z",
     "shell.execute_reply": "2022-01-12T15:26:12.024901Z",
     "shell.execute_reply.started": "2022-01-12T15:16:00.224407Z"
    },
    "papermill": {
     "duration": 0.757263,
     "end_time": "2022-01-12T15:26:12.025713",
     "exception": false,
     "start_time": "2022-01-12T15:26:11.268450",
     "status": "completed"
    },
    "tags": []
   },
   "outputs": [
    {
     "data": {
      "application/javascript": [
       "parent.postMessage({\"jupyterEvent\": \"custom.exercise_interaction\", \"data\": {\"interactionType\": 3, \"questionType\": 2, \"questionId\": \"6.1_PlotColorReg\", \"learnToolsVersion\": \"0.3.4\", \"valueTowardsCompletion\": 0.0, \"failureMessage\": \"\", \"exceptionClass\": \"\", \"trace\": \"\", \"outcomeType\": 4}}, \"*\")"
      ],
      "text/plain": [
       "<IPython.core.display.Javascript object>"
      ]
     },
     "metadata": {},
     "output_type": "display_data"
    },
    {
     "data": {
      "text/markdown": [
       "<span style=\"color:#33cc99\">Solution:</span> \n",
       "```python\n",
       "# Color-coded scatter plot w/ regression lines\n",
       "sns.lmplot(x=\"pricepercent\", y=\"winpercent\", hue=\"chocolate\", data=candy_data)\n",
       "\n",
       "```"
      ],
      "text/plain": [
       "Solution: \n",
       "```python\n",
       "# Color-coded scatter plot w/ regression lines\n",
       "sns.lmplot(x=\"pricepercent\", y=\"winpercent\", hue=\"chocolate\", data=candy_data)\n",
       "\n",
       "```"
      ]
     },
     "metadata": {},
     "output_type": "display_data"
    },
    {
     "data": {
      "image/png": "[encoded data removed]",
      "text/plain": [
       "<Figure size 416.375x360 with 1 Axes>"
      ]
     },
     "metadata": {
      "needs_background": "light"
     },
     "output_type": "display_data"
    }
   ],
   "source": [
    "# Lines below will give you a hint or solution code\n",
    "#step_6.a.hint()\n",
    "step_6.a.solution_plot()"
   ]
  },
  {
   "cell_type": "markdown",
   "id": "62563440",
   "metadata": {
    "papermill": {
     "duration": 0.054659,
     "end_time": "2022-01-12T15:26:12.137000",
     "exception": false,
     "start_time": "2022-01-12T15:26:12.082341",
     "status": "completed"
    },
    "tags": []
   },
   "source": [
    "#### Part B\n",
    "\n",
    "Using the regression lines, what conclusions can you draw about the effects of chocolate and price on candy popularity?"
   ]
  },
  {
   "cell_type": "markdown",
   "id": "dd1442cc",
   "metadata": {
    "papermill": {
     "duration": 0.053691,
     "end_time": "2022-01-12T15:26:12.244182",
     "exception": false,
     "start_time": "2022-01-12T15:26:12.190491",
     "status": "completed"
    },
    "tags": []
   },
   "source": [
    "Answer: People usually prefer chocolate candies. Cheaper candies with no chocolate are more popular than more expensive candies with no chocolate. More expensive chocolate candies are more popular than cheaper chocolate candies."
   ]
  },
  {
   "cell_type": "code",
   "execution_count": 20,
   "id": "059112c8",
   "metadata": {
    "execution": {
     "iopub.execute_input": "2022-01-12T15:26:12.358597Z",
     "iopub.status.busy": "2022-01-12T15:26:12.357867Z",
     "iopub.status.idle": "2022-01-12T15:26:12.361365Z",
     "shell.execute_reply": "2022-01-12T15:26:12.361912Z"
    },
    "papermill": {
     "duration": 0.062969,
     "end_time": "2022-01-12T15:26:12.362140",
     "exception": false,
     "start_time": "2022-01-12T15:26:12.299171",
     "status": "completed"
    },
    "tags": []
   },
   "outputs": [],
   "source": [
    "#step_6.b.hint()"
   ]
  },
  {
   "cell_type": "code",
   "execution_count": 21,
   "id": "728372fa",
   "metadata": {
    "execution": {
     "iopub.execute_input": "2022-01-12T15:26:12.478924Z",
     "iopub.status.busy": "2022-01-12T15:26:12.477741Z",
     "iopub.status.idle": "2022-01-12T15:26:12.484170Z",
     "shell.execute_reply": "2022-01-12T15:26:12.483607Z",
     "shell.execute_reply.started": "2022-01-12T15:18:26.017601Z"
    },
    "papermill": {
     "duration": 0.067353,
     "end_time": "2022-01-12T15:26:12.484329",
     "exception": false,
     "start_time": "2022-01-12T15:26:12.416976",
     "status": "completed"
    },
    "tags": []
   },
   "outputs": [
    {
     "data": {
      "application/javascript": [
       "parent.postMessage({\"jupyterEvent\": \"custom.exercise_interaction\", \"data\": {\"interactionType\": 3, \"questionType\": 4, \"questionId\": \"6.2_ThinkColorReg\", \"learnToolsVersion\": \"0.3.4\", \"valueTowardsCompletion\": 0.0, \"failureMessage\": \"\", \"exceptionClass\": \"\", \"trace\": \"\", \"outcomeType\": 4}}, \"*\")"
      ],
      "text/plain": [
       "<IPython.core.display.Javascript object>"
      ]
     },
     "metadata": {},
     "output_type": "display_data"
    },
    {
     "data": {
      "text/markdown": [
       "<span style=\"color:#33cc99\">Solution:</span> We'll begin with the regression line for chocolate candies. Since this line has a slightly positive slope, we can say that more expensive chocolate candies tend to be more popular (than relatively cheaper chocolate candies).  Likewise, since the regression line for candies without chocolate has a negative slope, we can say that if candies don't contain chocolate, they tend to be more popular when they are cheaper.  One important note, however, is that the dataset is quite small -- so we shouldn't invest too much trust in these patterns!  To inspire more confidence in the results, we should add more candies to the dataset."
      ],
      "text/plain": [
       "Solution: We'll begin with the regression line for chocolate candies. Since this line has a slightly positive slope, we can say that more expensive chocolate candies tend to be more popular (than relatively cheaper chocolate candies).  Likewise, since the regression line for candies without chocolate has a negative slope, we can say that if candies don't contain chocolate, they tend to be more popular when they are cheaper.  One important note, however, is that the dataset is quite small -- so we shouldn't invest too much trust in these patterns!  To inspire more confidence in the results, we should add more candies to the dataset."
      ]
     },
     "metadata": {},
     "output_type": "display_data"
    }
   ],
   "source": [
    "# Check your answer (Run this code cell to receive credit!)\n",
    "step_6.b.solution()"
   ]
  },
  {
   "cell_type": "markdown",
   "id": "1dac769b",
   "metadata": {
    "papermill": {
     "duration": 0.05738,
     "end_time": "2022-01-12T15:26:12.596408",
     "exception": false,
     "start_time": "2022-01-12T15:26:12.539028",
     "status": "completed"
    },
    "tags": []
   },
   "source": [
    "## Step 7: Everybody loves chocolate.\n",
    "\n",
    "#### Part A\n",
    "\n",
    "Create a categorical scatter plot to highlight the relationship between `'chocolate'` and `'winpercent'`.  Put `'chocolate'` on the (horizontal) x-axis, and `'winpercent'` on the (vertical) y-axis."
   ]
  },
  {
   "cell_type": "code",
   "execution_count": 22,
   "id": "fabf04b7",
   "metadata": {
    "execution": {
     "iopub.execute_input": "2022-01-12T15:26:12.732821Z",
     "iopub.status.busy": "2022-01-12T15:26:12.720069Z",
     "iopub.status.idle": "2022-01-12T15:26:12.887678Z",
     "shell.execute_reply": "2022-01-12T15:26:12.887012Z",
     "shell.execute_reply.started": "2022-01-12T15:23:21.103261Z"
    },
    "papermill": {
     "duration": 0.235142,
     "end_time": "2022-01-12T15:26:12.887864",
     "exception": false,
     "start_time": "2022-01-12T15:26:12.652722",
     "status": "completed"
    },
    "tags": []
   },
   "outputs": [
    {
     "data": {
      "application/javascript": [
       "parent.postMessage({\"jupyterEvent\": \"custom.exercise_interaction\", \"data\": {\"outcomeType\": 1, \"valueTowardsCompletion\": 0.3333333333333333, \"interactionType\": 1, \"questionType\": 2, \"questionId\": \"7.1_PlotSwarm\", \"learnToolsVersion\": \"0.3.4\", \"failureMessage\": \"\", \"exceptionClass\": \"\", \"trace\": \"\"}}, \"*\")"
      ],
      "text/plain": [
       "<IPython.core.display.Javascript object>"
      ]
     },
     "metadata": {},
     "output_type": "display_data"
    },
    {
     "data": {
      "text/markdown": [
       "<span style=\"color:#33cc33\">Correct</span>"
      ],
      "text/plain": [
       "Correct"
      ]
     },
     "metadata": {},
     "output_type": "display_data"
    },
    {
     "data": {
      "image/png": "[encoded data removed]",
      "text/plain": [
       "<Figure size 432x288 with 1 Axes>"
      ]
     },
     "metadata": {
      "needs_background": "light"
     },
     "output_type": "display_data"
    }
   ],
   "source": [
    "# Scatter plot showing the relationship between 'chocolate' and 'winpercent'\n",
    "sns.swarmplot(x=candy_data['chocolate'], y=candy_data['winpercent'])\n",
    "\n",
    "# Check your answer\n",
    "step_7.a.check()"
   ]
  },
  {
   "cell_type": "code",
   "execution_count": 23,
   "id": "409a9507",
   "metadata": {
    "execution": {
     "iopub.execute_input": "2022-01-12T15:26:13.011733Z",
     "iopub.status.busy": "2022-01-12T15:26:13.010729Z",
     "iopub.status.idle": "2022-01-12T15:26:13.230798Z",
     "shell.execute_reply": "2022-01-12T15:26:13.230142Z",
     "shell.execute_reply.started": "2022-01-12T15:23:39.336772Z"
    },
    "papermill": {
     "duration": 0.282136,
     "end_time": "2022-01-12T15:26:13.230954",
     "exception": false,
     "start_time": "2022-01-12T15:26:12.948818",
     "status": "completed"
    },
    "tags": []
   },
   "outputs": [
    {
     "data": {
      "application/javascript": [
       "parent.postMessage({\"jupyterEvent\": \"custom.exercise_interaction\", \"data\": {\"interactionType\": 3, \"questionType\": 2, \"questionId\": \"7.1_PlotSwarm\", \"learnToolsVersion\": \"0.3.4\", \"valueTowardsCompletion\": 0.0, \"failureMessage\": \"\", \"exceptionClass\": \"\", \"trace\": \"\", \"outcomeType\": 4}}, \"*\")"
      ],
      "text/plain": [
       "<IPython.core.display.Javascript object>"
      ]
     },
     "metadata": {},
     "output_type": "display_data"
    },
    {
     "data": {
      "text/markdown": [
       "<span style=\"color:#33cc99\">Solution:</span> \n",
       "```python\n",
       "# Scatter plot showing the relationship between 'chocolate' and 'winpercent'\n",
       "sns.swarmplot(x=candy_data['chocolate'], y=candy_data['winpercent'])\n",
       "\n",
       "```"
      ],
      "text/plain": [
       "Solution: \n",
       "```python\n",
       "# Scatter plot showing the relationship between 'chocolate' and 'winpercent'\n",
       "sns.swarmplot(x=candy_data['chocolate'], y=candy_data['winpercent'])\n",
       "\n",
       "```"
      ]
     },
     "metadata": {},
     "output_type": "display_data"
    },
    {
     "data": {
      "image/png": "[encoded data removed]",
      "text/plain": [
       "<Figure size 432x288 with 1 Axes>"
      ]
     },
     "metadata": {
      "needs_background": "light"
     },
     "output_type": "display_data"
    }
   ],
   "source": [
    "# Lines below will give you a hint or solution code\n",
    "#step_7.a.hint()\n",
    "step_7.a.solution_plot()"
   ]
  },
  {
   "cell_type": "markdown",
   "id": "d99d603f",
   "metadata": {
    "papermill": {
     "duration": 0.060475,
     "end_time": "2022-01-12T15:26:13.352386",
     "exception": false,
     "start_time": "2022-01-12T15:26:13.291911",
     "status": "completed"
    },
    "tags": []
   },
   "source": [
    "#### Part B\n",
    "\n",
    "You decide to dedicate a section of your report to the fact that chocolate candies tend to be more popular than candies without chocolate.  Which plot is more appropriate to tell this story: the plot from **Step 6**, or the plot from **Step 7**?"
   ]
  },
  {
   "cell_type": "markdown",
   "id": "cb98e0a7",
   "metadata": {
    "papermill": {
     "duration": 0.058254,
     "end_time": "2022-01-12T15:26:13.468848",
     "exception": false,
     "start_time": "2022-01-12T15:26:13.410594",
     "status": "completed"
    },
    "tags": []
   },
   "source": [
    "Answer: The plot from step 7"
   ]
  },
  {
   "cell_type": "code",
   "execution_count": 24,
   "id": "dc9c8b13",
   "metadata": {
    "execution": {
     "iopub.execute_input": "2022-01-12T15:26:13.591582Z",
     "iopub.status.busy": "2022-01-12T15:26:13.590864Z",
     "iopub.status.idle": "2022-01-12T15:26:13.594295Z",
     "shell.execute_reply": "2022-01-12T15:26:13.594841Z"
    },
    "papermill": {
     "duration": 0.068132,
     "end_time": "2022-01-12T15:26:13.595054",
     "exception": false,
     "start_time": "2022-01-12T15:26:13.526922",
     "status": "completed"
    },
    "tags": []
   },
   "outputs": [],
   "source": [
    "#step_7.b.hint()"
   ]
  },
  {
   "cell_type": "code",
   "execution_count": 25,
   "id": "7690ec7a",
   "metadata": {
    "execution": {
     "iopub.execute_input": "2022-01-12T15:26:13.721661Z",
     "iopub.status.busy": "2022-01-12T15:26:13.720917Z",
     "iopub.status.idle": "2022-01-12T15:26:13.725735Z",
     "shell.execute_reply": "2022-01-12T15:26:13.726280Z",
     "shell.execute_reply.started": "2022-01-12T15:24:36.419001Z"
    },
    "papermill": {
     "duration": 0.070453,
     "end_time": "2022-01-12T15:26:13.726478",
     "exception": false,
     "start_time": "2022-01-12T15:26:13.656025",
     "status": "completed"
    },
    "tags": []
   },
   "outputs": [
    {
     "data": {
      "application/javascript": [
       "parent.postMessage({\"jupyterEvent\": \"custom.exercise_interaction\", \"data\": {\"interactionType\": 3, \"questionType\": 4, \"questionId\": \"7.2_ThinkSwarm\", \"learnToolsVersion\": \"0.3.4\", \"valueTowardsCompletion\": 0.0, \"failureMessage\": \"\", \"exceptionClass\": \"\", \"trace\": \"\", \"outcomeType\": 4}}, \"*\")"
      ],
      "text/plain": [
       "<IPython.core.display.Javascript object>"
      ]
     },
     "metadata": {},
     "output_type": "display_data"
    },
    {
     "data": {
      "text/markdown": [
       "<span style=\"color:#33cc99\">Solution:</span> In this case, the categorical scatter plot from **Step 7** is the more appropriate plot. While both plots tell the desired story, the plot from **Step 6** conveys far more information that could distract from the main point."
      ],
      "text/plain": [
       "Solution: In this case, the categorical scatter plot from **Step 7** is the more appropriate plot. While both plots tell the desired story, the plot from **Step 6** conveys far more information that could distract from the main point."
      ]
     },
     "metadata": {},
     "output_type": "display_data"
    }
   ],
   "source": [
    "# Check your answer (Run this code cell to receive credit!)\n",
    "step_7.b.solution()"
   ]
  },
  {
   "cell_type": "markdown",
   "id": "4c0a6142",
   "metadata": {
    "papermill": {
     "duration": 0.059496,
     "end_time": "2022-01-12T15:26:13.847353",
     "exception": false,
     "start_time": "2022-01-12T15:26:13.787857",
     "status": "completed"
    },
    "tags": []
   },
   "source": [
    "## Keep going\n",
    "\n",
    "Explore **[histograms and density plots](https://www.kaggle.com/alexisbcook/distributions)**."
   ]
  },
  {
   "cell_type": "markdown",
   "id": "86ecd48b",
   "metadata": {
    "papermill": {
     "duration": 0.062106,
     "end_time": "2022-01-12T15:26:13.969840",
     "exception": false,
     "start_time": "2022-01-12T15:26:13.907734",
     "status": "completed"
    },
    "tags": []
   },
   "source": [
    "---\n",
    "\n",
    "\n",
    "\n",
    "\n",
    "*Have questions or comments? Visit the [course discussion forum](https://www.kaggle.com/learn/data-visualization/discussion) to chat with other learners.*"
   ]
  }
 ],
 "metadata": {
  "kernelspec": {
   "display_name": "Python 3",
   "language": "python",
   "name": "python3"
  },
  "language_info": {
   "codemirror_mode": {
    "name": "ipython",
    "version": 3
   },
   "file_extension": ".py",
   "mimetype": "text/x-python",
   "name": "python",
   "nbconvert_exporter": "python",
   "pygments_lexer": "ipython3",
   "version": "3.7.12"
  },
  "papermill": {
   "default_parameters": {},
   "duration": 20.58491,
   "end_time": "2022-01-12T15:26:15.144045",
   "environment_variables": {},
   "exception": null,
   "input_path": "__notebook__.ipynb",
   "output_path": "__notebook__.ipynb",
   "parameters": {},
   "start_time": "2022-01-12T15:25:54.559135",
   "version": "2.3.3"
  }
 },
 "nbformat": 4,
 "nbformat_minor": 5
}
